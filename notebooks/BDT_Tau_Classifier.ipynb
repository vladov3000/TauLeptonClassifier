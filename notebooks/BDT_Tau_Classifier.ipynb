{
 "cells": [
  {
   "cell_type": "markdown",
   "metadata": {},
   "source": [
    "# Conifer Synthesis with GradientBoost BDT on ATLAS Tau Data"
   ]
  },
  {
   "cell_type": "code",
   "execution_count": 1,
   "metadata": {},
   "outputs": [],
   "source": [
    "from sklearn.datasets import fetch_openml\n",
    "from sklearn.ensemble import GradientBoostingClassifier\n",
    "from sklearn.tree import DecisionTreeClassifier\n",
    "from sklearn.model_selection import train_test_split\n",
    "from sklearn.preprocessing import LabelEncoder\n",
    "import sklearn.metrics\n",
    "import conifer\n",
    "import datetime\n",
    "import numpy as np\n",
    "import matplotlib.pyplot as plt\n",
    "import itertools\n",
    "import pandas as pd\n",
    "import pickle\n",
    "import sklearn.ensemble"
   ]
  },
  {
   "cell_type": "markdown",
   "metadata": {},
   "source": [
    "### Load data"
   ]
  },
  {
   "cell_type": "code",
   "execution_count": 2,
   "metadata": {},
   "outputs": [],
   "source": [
    "def open_params_used(filename):\n",
    "    with open(filename, \"r\") as f:\n",
    "        return f.read().split()"
   ]
  },
  {
   "cell_type": "code",
   "execution_count": 3,
   "metadata": {},
   "outputs": [
    {
     "data": {
      "text/plain": [
       "['reco_pt', 'reco_eta', 'reco_frac2', 'reco_max1', 'reco_max2']"
      ]
     },
     "execution_count": 3,
     "metadata": {},
     "output_type": "execute_result"
    }
   ],
   "source": [
    "params_used = open_params_used(\"params5_used.txt\")\n",
    "params_used"
   ]
  },
  {
   "cell_type": "code",
   "execution_count": 4,
   "metadata": {},
   "outputs": [],
   "source": [
    "def load_data(sig_filename, bg_filename, features):\n",
    "    \"\"\" Returns X, Y for data stored in csv file\"\"\"\n",
    "    \n",
    "    sig_df = pd.read_csv(sig_filename)[features]\n",
    "    bg_df = pd.read_csv(bg_filename)[features]\n",
    "    \n",
    "    sig_df[\"signal\"] = 1\n",
    "    bg_df[\"signal\"] = 0\n",
    "    \n",
    "    df  = pd.concat([sig_df, bg_df], ignore_index=True)\n",
    "    \n",
    "    X = df.to_numpy()[:, :-1]\n",
    "    Y = df.to_numpy()[:, -1][np.newaxis].transpose()\n",
    "    # Y = np.reshape(Y, (Y.shape[0], 1))\n",
    "    \n",
    "    return df, X, Y"
   ]
  },
  {
   "cell_type": "code",
   "execution_count": 5,
   "metadata": {},
   "outputs": [],
   "source": [
    "df, X, Y = load_data(\"~/tdata/sig.csv\", \"~/tdata/bg.csv\", params_used)"
   ]
  },
  {
   "cell_type": "code",
   "execution_count": 6,
   "metadata": {},
   "outputs": [
    {
     "data": {
      "text/html": [
       "<div>\n",
       "<style scoped>\n",
       "    .dataframe tbody tr th:only-of-type {\n",
       "        vertical-align: middle;\n",
       "    }\n",
       "\n",
       "    .dataframe tbody tr th {\n",
       "        vertical-align: top;\n",
       "    }\n",
       "\n",
       "    .dataframe thead th {\n",
       "        text-align: right;\n",
       "    }\n",
       "</style>\n",
       "<table border=\"1\" class=\"dataframe\">\n",
       "  <thead>\n",
       "    <tr style=\"text-align: right;\">\n",
       "      <th></th>\n",
       "      <th>reco_pt</th>\n",
       "      <th>reco_eta</th>\n",
       "      <th>reco_frac2</th>\n",
       "      <th>reco_max1</th>\n",
       "      <th>reco_max2</th>\n",
       "      <th>signal</th>\n",
       "    </tr>\n",
       "  </thead>\n",
       "  <tbody>\n",
       "    <tr>\n",
       "      <th>0</th>\n",
       "      <td>22125.000000</td>\n",
       "      <td>0.55</td>\n",
       "      <td>0.668927</td>\n",
       "      <td>12.150</td>\n",
       "      <td>0.150</td>\n",
       "      <td>1</td>\n",
       "    </tr>\n",
       "    <tr>\n",
       "      <th>1</th>\n",
       "      <td>8375.000000</td>\n",
       "      <td>0.85</td>\n",
       "      <td>0.707463</td>\n",
       "      <td>2.625</td>\n",
       "      <td>0.925</td>\n",
       "      <td>1</td>\n",
       "    </tr>\n",
       "    <tr>\n",
       "      <th>2</th>\n",
       "      <td>10850.000381</td>\n",
       "      <td>0.95</td>\n",
       "      <td>0.605991</td>\n",
       "      <td>2.500</td>\n",
       "      <td>0.775</td>\n",
       "      <td>1</td>\n",
       "    </tr>\n",
       "    <tr>\n",
       "      <th>3</th>\n",
       "      <td>23549.999237</td>\n",
       "      <td>1.75</td>\n",
       "      <td>0.516985</td>\n",
       "      <td>4.500</td>\n",
       "      <td>2.475</td>\n",
       "      <td>1</td>\n",
       "    </tr>\n",
       "    <tr>\n",
       "      <th>4</th>\n",
       "      <td>8175.000191</td>\n",
       "      <td>0.05</td>\n",
       "      <td>0.186544</td>\n",
       "      <td>0.400</td>\n",
       "      <td>0.325</td>\n",
       "      <td>1</td>\n",
       "    </tr>\n",
       "  </tbody>\n",
       "</table>\n",
       "</div>"
      ],
      "text/plain": [
       "        reco_pt  reco_eta  reco_frac2  reco_max1  reco_max2  signal\n",
       "0  22125.000000      0.55    0.668927     12.150      0.150       1\n",
       "1   8375.000000      0.85    0.707463      2.625      0.925       1\n",
       "2  10850.000381      0.95    0.605991      2.500      0.775       1\n",
       "3  23549.999237      1.75    0.516985      4.500      2.475       1\n",
       "4   8175.000191      0.05    0.186544      0.400      0.325       1"
      ]
     },
     "metadata": {},
     "output_type": "display_data"
    },
    {
     "data": {
      "text/plain": [
       "0    2551567\n",
       "1      87629\n",
       "Name: signal, dtype: int64"
      ]
     },
     "metadata": {},
     "output_type": "display_data"
    }
   ],
   "source": [
    "display(df.head())\n",
    "display(df[\"signal\"].value_counts())"
   ]
  },
  {
   "cell_type": "code",
   "execution_count": 7,
   "metadata": {},
   "outputs": [
    {
     "name": "stdout",
     "output_type": "stream",
     "text": [
      "(2639196, 5)\n",
      "(2639196, 1)\n",
      "(2639196, 6)\n"
     ]
    }
   ],
   "source": [
    "print(X.shape)\n",
    "print(Y.shape)\n",
    "print(np.concatenate((X, Y), axis=1).shape)"
   ]
  },
  {
   "cell_type": "markdown",
   "metadata": {},
   "source": [
    "### Split data into test/train subsets"
   ]
  },
  {
   "cell_type": "code",
   "execution_count": 8,
   "metadata": {},
   "outputs": [],
   "source": [
    "def split_data(X, Y, test_percent=0.1):\n",
    "    \"\"\"returns X_train, Y_train, X_test, Y_test \"\"\"\n",
    "    total = np.concatenate((X, Y), axis=1)\n",
    "    np.random.shuffle(total)\n",
    "    n_X = (int) ((1 - test_percent) * total.shape[0])\n",
    "    \n",
    "    X_train = total[:n_X, :-1]\n",
    "    X_test = total[n_X:, :-1]\n",
    "    \n",
    "    Y_train = total[:n_X, -1][np.newaxis].transpose()\n",
    "    Y_test = total[n_X:, -1][np.newaxis].transpose()\n",
    "    \n",
    "    return X_train, Y_train, X_test, Y_test"
   ]
  },
  {
   "cell_type": "code",
   "execution_count": 9,
   "metadata": {},
   "outputs": [
    {
     "name": "stdout",
     "output_type": "stream",
     "text": [
      "X_train: (2375276, 5) Y_train: (2375276, 1)\n",
      "X_test: (263920, 5) Y_test: (263920, 1)\n"
     ]
    }
   ],
   "source": [
    "X_train_val, y_train_val, X_test, y_test = split_data(X, Y)\n",
    "print(f\"X_train: {X_train_val.shape} Y_train: {y_train_val.shape}\")\n",
    "print(f\"X_test: {X_test.shape} Y_test: {y_test.shape}\")"
   ]
  },
  {
   "cell_type": "markdown",
   "metadata": {},
   "source": [
    "### Load GradientBoostingClassifier"
   ]
  },
  {
   "cell_type": "code",
   "execution_count": 11,
   "metadata": {},
   "outputs": [],
   "source": [
    "with open('GradientBoosted_params5_trees50_depth2.pkl', 'rb') as f:\n",
    "    clf = pickle.load(f)"
   ]
  },
  {
   "cell_type": "markdown",
   "metadata": {},
   "source": [
    "### Determine model accuracy"
   ]
  },
  {
   "cell_type": "code",
   "execution_count": 12,
   "metadata": {},
   "outputs": [
    {
     "name": "stdout",
     "output_type": "stream",
     "text": [
      "Accuracy: 0.9752273416186723\n"
     ]
    }
   ],
   "source": [
    "from sklearn.metrics import accuracy_score\n",
    "y_predict = clf.predict(X_test)\n",
    "print(\"Accuracy: {}\".format(accuracy_score(y_test, y_predict)))"
   ]
  },
  {
   "cell_type": "markdown",
   "metadata": {},
   "source": [
    "### Determine AUCs and ROC curves"
   ]
  },
  {
   "cell_type": "code",
   "execution_count": 34,
   "metadata": {},
   "outputs": [],
   "source": [
    "y_score = clf.decision_function(X_test)\n",
    "fpr = dict()\n",
    "tpr = dict()\n",
    "roc_auc = dict()\n",
    "\n",
    "fpr[0], tpr[0], _ = sklearn.metrics.roc_curve(y_test, y_score)\n",
    "roc_auc[i] = sklearn.metrics.auc(fpr[i], tpr[i])"
   ]
  },
  {
   "cell_type": "markdown",
   "metadata": {},
   "source": [
    "### Plot ROC Curve"
   ]
  },
  {
   "cell_type": "code",
   "execution_count": 17,
   "metadata": {},
   "outputs": [
    {
     "data": {
      "image/png": "[encoded data removed]",
      "text/plain": [
       "<Figure size 432x288 with 1 Axes>"
      ]
     },
     "metadata": {
      "needs_background": "light"
     },
     "output_type": "display_data"
    }
   ],
   "source": [
    "# Plot all ROC curves\n",
    "plt.figure()\n",
    "\n",
    "lw=2\n",
    "classes=['Gradient']\n",
    "n_classes=len(list(classes))\n",
    "\n",
    "from itertools import cycle\n",
    "colors = cycle(['aqua', 'darkorange', 'cornflowerblue', 'red', 'green'])\n",
    "for i, color in zip(range(n_classes), colors):\n",
    "    plt.plot(fpr[i], tpr[i], color=color, lw=lw,\n",
    "             label= list(classes)[i] + ' tagger (area = {1:0.2f})'\n",
    "             ''.format(i, roc_auc[i]))\n",
    "\n",
    "plt.plot([0, 1], [0, 1], 'k--', lw=lw)\n",
    "plt.xlim([0.0, 1.0])\n",
    "plt.ylim([0.0, 1.05])\n",
    "plt.xlabel('False Positive Rate')\n",
    "plt.ylabel('True Positive Rate')\n",
    "plt.title('ROC Curves for BDT Jet Classifier')\n",
    "plt.legend(loc=\"lower right\")\n",
    "plt.show()"
   ]
  },
  {
   "cell_type": "markdown",
   "metadata": {},
   "source": [
    "### Plot ROC Curve as Signal Efficiency vs Log of Background Efficiency"
   ]
  },
  {
   "cell_type": "code",
   "execution_count": 18,
   "metadata": {},
   "outputs": [
    {
     "name": "stderr",
     "output_type": "stream",
     "text": [
      "/home/vovechki/miniconda3/envs/conifer-env/lib/python3.6/site-packages/ipykernel_launcher.py:17: UserWarning: Attempted to set non-positive bottom ylim on a log-scaled axis.\n",
      "Invalid limit will be ignored.\n"
     ]
    },
    {
     "data": {
      "image/png": "[encoded data removed]",
      "text/plain": [
       "<Figure size 432x288 with 1 Axes>"
      ]
     },
     "metadata": {
      "needs_background": "light"
     },
     "output_type": "display_data"
    }
   ],
   "source": [
    "# Plot all ROC curves\n",
    "plt.figure()\n",
    "\n",
    "lw=2\n",
    "classes=['Gradient']\n",
    "n_classes=len(list(classes))\n",
    "\n",
    "from itertools import cycle\n",
    "colors = cycle(['aqua', 'darkorange', 'cornflowerblue', 'red', 'green'])\n",
    "for i, color in zip(range(n_classes), colors):\n",
    "    plt.plot(tpr[i], fpr[i], color=color, lw=lw,\n",
    "             label= list(classes)[i] + ' tagger (area = {1:0.2f})'\n",
    "             ''.format(i, roc_auc[i]))\n",
    "\n",
    "plt.semilogy()\n",
    "plt.xlim([0.0, 1.0])\n",
    "plt.ylim([0.0, 1.0])\n",
    "plt.xlabel('Signal Efficiency')\n",
    "plt.ylabel('Background Efficiency')\n",
    "plt.title('ROC Curves for BDT Jet Classifier')\n",
    "plt.legend(loc=\"upper left\")\n",
    "plt.show()"
   ]
  },
  {
   "cell_type": "markdown",
   "metadata": {},
   "source": [
    "### Generate confusion matrix"
   ]
  },
  {
   "cell_type": "code",
   "execution_count": 21,
   "metadata": {},
   "outputs": [
    {
     "name": "stderr",
     "output_type": "stream",
     "text": [
      "/home/vovechki/miniconda3/envs/conifer-env/lib/python3.6/site-packages/sklearn/metrics/_classification.py:289: FutureWarning: elementwise comparison failed; returning scalar instead, but in the future will perform elementwise comparison\n",
      "  elif np.all([l not in y_true for l in labels]):\n"
     ]
    },
    {
     "ename": "ValueError",
     "evalue": "At least one label specified must be in y_true",
     "output_type": "error",
     "traceback": [
      "\u001b[0;31m---------------------------------------------------------------------------\u001b[0m",
      "\u001b[0;31mValueError\u001b[0m                                Traceback (most recent call last)",
      "\u001b[0;32m<ipython-input-21-d202043dbc8d>\u001b[0m in \u001b[0;36m<module>\u001b[0;34m()\u001b[0m\n\u001b[0;32m----> 1\u001b[0;31m \u001b[0mcm\u001b[0m \u001b[0;34m=\u001b[0m\u001b[0msklearn\u001b[0m\u001b[0;34m.\u001b[0m\u001b[0mmetrics\u001b[0m\u001b[0;34m.\u001b[0m\u001b[0mconfusion_matrix\u001b[0m\u001b[0;34m(\u001b[0m\u001b[0my_test\u001b[0m\u001b[0;34m,\u001b[0m \u001b[0my_predict\u001b[0m\u001b[0;34m,\u001b[0m \u001b[0mlabels\u001b[0m\u001b[0;34m=\u001b[0m\u001b[0mclasses\u001b[0m\u001b[0;34m)\u001b[0m\u001b[0;34m\u001b[0m\u001b[0;34m\u001b[0m\u001b[0m\n\u001b[0m",
      "\u001b[0;32m~/miniconda3/envs/conifer-env/lib/python3.6/site-packages/sklearn/utils/validation.py\u001b[0m in \u001b[0;36minner_f\u001b[0;34m(*args, **kwargs)\u001b[0m\n\u001b[1;32m     70\u001b[0m                           FutureWarning)\n\u001b[1;32m     71\u001b[0m         \u001b[0mkwargs\u001b[0m\u001b[0;34m.\u001b[0m\u001b[0mupdate\u001b[0m\u001b[0;34m(\u001b[0m\u001b[0;34m{\u001b[0m\u001b[0mk\u001b[0m\u001b[0;34m:\u001b[0m \u001b[0marg\u001b[0m \u001b[0;32mfor\u001b[0m \u001b[0mk\u001b[0m\u001b[0;34m,\u001b[0m \u001b[0marg\u001b[0m \u001b[0;32min\u001b[0m \u001b[0mzip\u001b[0m\u001b[0;34m(\u001b[0m\u001b[0msig\u001b[0m\u001b[0;34m.\u001b[0m\u001b[0mparameters\u001b[0m\u001b[0;34m,\u001b[0m \u001b[0margs\u001b[0m\u001b[0;34m)\u001b[0m\u001b[0;34m}\u001b[0m\u001b[0;34m)\u001b[0m\u001b[0;34m\u001b[0m\u001b[0;34m\u001b[0m\u001b[0m\n\u001b[0;32m---> 72\u001b[0;31m         \u001b[0;32mreturn\u001b[0m \u001b[0mf\u001b[0m\u001b[0;34m(\u001b[0m\u001b[0;34m**\u001b[0m\u001b[0mkwargs\u001b[0m\u001b[0;34m)\u001b[0m\u001b[0;34m\u001b[0m\u001b[0;34m\u001b[0m\u001b[0m\n\u001b[0m\u001b[1;32m     73\u001b[0m     \u001b[0;32mreturn\u001b[0m \u001b[0minner_f\u001b[0m\u001b[0;34m\u001b[0m\u001b[0;34m\u001b[0m\u001b[0m\n\u001b[1;32m     74\u001b[0m \u001b[0;34m\u001b[0m\u001b[0m\n",
      "\u001b[0;32m~/miniconda3/envs/conifer-env/lib/python3.6/site-packages/sklearn/metrics/_classification.py\u001b[0m in \u001b[0;36mconfusion_matrix\u001b[0;34m(y_true, y_pred, labels, sample_weight, normalize)\u001b[0m\n\u001b[1;32m    288\u001b[0m             \u001b[0;32mreturn\u001b[0m \u001b[0mnp\u001b[0m\u001b[0;34m.\u001b[0m\u001b[0mzeros\u001b[0m\u001b[0;34m(\u001b[0m\u001b[0;34m(\u001b[0m\u001b[0mn_labels\u001b[0m\u001b[0;34m,\u001b[0m \u001b[0mn_labels\u001b[0m\u001b[0;34m)\u001b[0m\u001b[0;34m,\u001b[0m \u001b[0mdtype\u001b[0m\u001b[0;34m=\u001b[0m\u001b[0mnp\u001b[0m\u001b[0;34m.\u001b[0m\u001b[0mint\u001b[0m\u001b[0;34m)\u001b[0m\u001b[0;34m\u001b[0m\u001b[0;34m\u001b[0m\u001b[0m\n\u001b[1;32m    289\u001b[0m         \u001b[0;32melif\u001b[0m \u001b[0mnp\u001b[0m\u001b[0;34m.\u001b[0m\u001b[0mall\u001b[0m\u001b[0;34m(\u001b[0m\u001b[0;34m[\u001b[0m\u001b[0ml\u001b[0m \u001b[0;32mnot\u001b[0m \u001b[0;32min\u001b[0m \u001b[0my_true\u001b[0m \u001b[0;32mfor\u001b[0m \u001b[0ml\u001b[0m \u001b[0;32min\u001b[0m \u001b[0mlabels\u001b[0m\u001b[0;34m]\u001b[0m\u001b[0;34m)\u001b[0m\u001b[0;34m:\u001b[0m\u001b[0;34m\u001b[0m\u001b[0;34m\u001b[0m\u001b[0m\n\u001b[0;32m--> 290\u001b[0;31m             \u001b[0;32mraise\u001b[0m \u001b[0mValueError\u001b[0m\u001b[0;34m(\u001b[0m\u001b[0;34m\"At least one label specified must be in y_true\"\u001b[0m\u001b[0;34m)\u001b[0m\u001b[0;34m\u001b[0m\u001b[0;34m\u001b[0m\u001b[0m\n\u001b[0m\u001b[1;32m    291\u001b[0m \u001b[0;34m\u001b[0m\u001b[0m\n\u001b[1;32m    292\u001b[0m     \u001b[0;32mif\u001b[0m \u001b[0msample_weight\u001b[0m \u001b[0;32mis\u001b[0m \u001b[0;32mNone\u001b[0m\u001b[0;34m:\u001b[0m\u001b[0;34m\u001b[0m\u001b[0;34m\u001b[0m\u001b[0m\n",
      "\u001b[0;31mValueError\u001b[0m: At least one label specified must be in y_true"
     ]
    }
   ],
   "source": [
    "cm =sklearn.metrics.confusion_matrix(y_test, y_predict, labels=classes)"
   ]
  },
  {
   "cell_type": "code",
   "execution_count": null,
   "metadata": {},
   "outputs": [],
   "source": [
    "# confusion matrix code from Maurizio\n",
    "# /eos/user/m/mpierini/DeepLearning/ML4FPGA/jupyter/HbbTagger_Conv1D.ipynb\n",
    "def plot_confusion_matrix(cm, classes,\n",
    "                          normalize=False, \n",
    "                          title='Confusion matrix',\n",
    "                          cmap=plt.cm.Blues):\n",
    "    \"\"\"\n",
    "    This function prints and plots the confusion matrix.\n",
    "    Normalization can be applied by setting `normalize=True`.\n",
    "    \"\"\"\n",
    "    if normalize:\n",
    "        cm = cm.astype('float') / cm.sum(axis=1)[:, np.newaxis]\n",
    "\n",
    "    plt.imshow(cm, interpolation='nearest', cmap=cmap)\n",
    "    #plt.title(title)\n",
    "    cbar = plt.colorbar()\n",
    "    plt.clim(0,1)\n",
    "    cbar.set_label(title)\n",
    "    tick_marks = np.arange(len(classes))\n",
    "    plt.xticks(tick_marks, classes, rotation=45)\n",
    "    plt.yticks(tick_marks, classes)\n",
    "\n",
    "    fmt = '.2f' if normalize else 'd'\n",
    "    thresh = cm.max() / 2.\n",
    "    for i, j in itertools.product(range(cm.shape[0]), range(cm.shape[1])):\n",
    "        plt.text(j, i, format(cm[i, j], fmt),\n",
    "                 horizontalalignment=\"center\",\n",
    "                 color=\"white\" if cm[i, j] > thresh else \"black\")\n",
    "\n",
    "    #plt.tight_layout()\n",
    "    plt.ylabel('True label')\n",
    "    plt.xlabel('Predicted label')"
   ]
  },
  {
   "cell_type": "code",
   "execution_count": null,
   "metadata": {},
   "outputs": [],
   "source": [
    "plot_confusion_matrix(cm,classes, normalize=True)"
   ]
  },
  {
   "cell_type": "markdown",
   "metadata": {},
   "source": [
    "### Perform model synthesis"
   ]
  },
  {
   "cell_type": "code",
   "execution_count": 24,
   "metadata": {},
   "outputs": [],
   "source": [
    "# Create a conifer config\n",
    "cfg = conifer.backends.vivadohls.auto_config()\n",
    "# Set the output directory to something unique\n",
    "cfg['OutputDir'] = 'tauTrees/prj_1605048046/rj_{}'.format(int(datetime.datetime.now().timestamp()))\n",
    "cfg['XilinxPart'] = 'xc7vx690tffg1761-2'\n",
    "\n",
    "# Create and compile the model\n",
    "model = conifer.model(clf, conifer.converters.sklearn, conifer.backends.vivadohls, cfg)\n",
    "model.compile()\n",
    "\n",
    "# Run HLS C Simulation and get the output\n",
    "y_conif = model.decision_function(X_test)\n",
    "\n",
    "# Synthesize the model\n",
    "model.build()"
   ]
  },
  {
   "cell_type": "markdown",
   "metadata": {},
   "source": [
    "### Generate Resource Reports"
   ]
  },
  {
   "cell_type": "code",
   "execution_count": 26,
   "metadata": {},
   "outputs": [
    {
     "name": "stdout",
     "output_type": "stream",
     "text": [
      "Found 1 solution(s) in tauTrees/prj_1605048046/my_prj_prj.\n",
      "Reports for solution \"solution1\":\n",
      "\n",
      "C simulation report not found.\n",
      "SYNTHESIS REPORT:\n",
      "================================================================\n",
      "== Vivado HLS Report for 'my_prj'\n",
      "================================================================\n",
      "* Date:           Tue Nov 10 16:42:13 2020\n",
      "\n",
      "* Version:        2018.2 (Build 2258646 on Thu Jun 14 20:25:20 MDT 2018)\n",
      "* Project:        my_prj_prj\n",
      "* Solution:       solution1\n",
      "* Product family: virtex7\n",
      "* Target device:  xc7vx690tffg1761-2\n",
      "\n",
      "\n",
      "================================================================\n",
      "== Performance Estimates\n",
      "================================================================\n",
      "+ Timing (ns): \n",
      "    * Summary: \n",
      "    +--------+-------+----------+------------+\n",
      "    |  Clock | Target| Estimated| Uncertainty|\n",
      "    +--------+-------+----------+------------+\n",
      "    |ap_clk  |   5.00|     4.135|        0.62|\n",
      "    +--------+-------+----------+------------+\n",
      "\n",
      "+ Latency (clock cycles): \n",
      "    * Summary: \n",
      "    +-----+-----+-----+-----+----------+\n",
      "    |  Latency  |  Interval | Pipeline |\n",
      "    | min | max | min | max |   Type   |\n",
      "    +-----+-----+-----+-----+----------+\n",
      "    |   26|   26|   25|   25| function |\n",
      "    +-----+-----+-----+-----+----------+\n",
      "\n",
      "    + Detail: \n",
      "        * Instance: \n",
      "        +-------------------------------+---------------------+-----+-----+-----+-----+----------+\n",
      "        |                               |                     |  Latency  |  Interval | Pipeline |\n",
      "        |            Instance           |        Module       | min | max | min | max |   Type   |\n",
      "        +-------------------------------+---------------------+-----+-----+-----+-----+----------+\n",
      "        |grp_decision_function_1_fu_75  |decision_function_1  |   26|   26|   25|   25| function |\n",
      "        +-------------------------------+---------------------+-----+-----+-----+-----+----------+\n",
      "\n",
      "        * Loop: \n",
      "        N/A\n",
      "\n",
      "\n",
      "\n",
      "================================================================\n",
      "== Utilization Estimates\n",
      "================================================================\n",
      "* Summary: \n",
      "+-----------------+---------+-------+--------+--------+\n",
      "|       Name      | BRAM_18K| DSP48E|   FF   |   LUT  |\n",
      "+-----------------+---------+-------+--------+--------+\n",
      "|DSP              |        -|      -|       -|       -|\n",
      "|Expression       |        -|      -|       0|       4|\n",
      "|FIFO             |        -|      -|       -|       -|\n",
      "|Instance         |        -|      -|     567|    3306|\n",
      "|Memory           |        -|      -|       -|       -|\n",
      "|Multiplexer      |        -|      -|       -|     139|\n",
      "|Register         |        -|      -|      27|       -|\n",
      "+-----------------+---------+-------+--------+--------+\n",
      "|Total            |        0|      0|     594|    3449|\n",
      "+-----------------+---------+-------+--------+--------+\n",
      "|Available        |     2940|   3600|  866400|  433200|\n",
      "+-----------------+---------+-------+--------+--------+\n",
      "|Utilization (%)  |        0|      0|   ~0   |   ~0   |\n",
      "+-----------------+---------+-------+--------+--------+\n",
      "\n",
      "+ Detail: \n",
      "    * Instance: \n",
      "    +-------------------------------+---------------------+---------+-------+-----+------+\n",
      "    |            Instance           |        Module       | BRAM_18K| DSP48E|  FF |  LUT |\n",
      "    +-------------------------------+---------------------+---------+-------+-----+------+\n",
      "    |grp_decision_function_1_fu_75  |decision_function_1  |        0|      0|  567|  3306|\n",
      "    +-------------------------------+---------------------+---------+-------+-----+------+\n",
      "    |Total                          |                     |        0|      0|  567|  3306|\n",
      "    +-------------------------------+---------------------+---------+-------+-----+------+\n",
      "\n"
     ]
    }
   ],
   "source": [
    "import hls4ml\n",
    "hls4ml.report.read_vivado_report(cfg['OutputDir'])"
   ]
  },
  {
   "cell_type": "markdown",
   "metadata": {},
   "source": [
    "### Generate ROC curve metrics for ADA model"
   ]
  },
  {
   "cell_type": "code",
   "execution_count": 43,
   "metadata": {},
   "outputs": [],
   "source": [
    "def open_model(filename):\n",
    "    \"\"\" Returns sklearn stored in pickle file.\"\"\"\n",
    "    with open(filename, 'rb') as f:\n",
    "        return pickle.load(f)"
   ]
  },
  {
   "cell_type": "code",
   "execution_count": 52,
   "metadata": {},
   "outputs": [
    {
     "data": {
      "text/plain": [
       "AdaBoostClassifier(algorithm='SAMME',\n",
       "                   base_estimator=DecisionTreeClassifier(max_depth=4),\n",
       "                   n_estimators=800)"
      ]
     },
     "execution_count": 52,
     "metadata": {},
     "output_type": "execute_result"
    }
   ],
   "source": [
    "model = open_model(\"../../params5_trees800_depth4.pkl\")\n",
    "model"
   ]
  },
  {
   "cell_type": "code",
   "execution_count": 53,
   "metadata": {},
   "outputs": [],
   "source": [
    "y_ada = model.decision_function(X_test)\n",
    "fpr_ada = dict()\n",
    "tpr_ada = dict()\n",
    "roc_auc_ada = dict()\n",
    "\n",
    "fpr_ada[0], tpr_ada[0], _ = sklearn.metrics.roc_curve(y_test, y_ada)\n",
    "roc_auc_ada[i] = sklearn.metrics.auc(fpr_ada[i], tpr_ada[i])"
   ]
  },
  {
   "cell_type": "markdown",
   "metadata": {},
   "source": [
    "### Generate ROC curve metrics for conifer model"
   ]
  },
  {
   "cell_type": "code",
   "execution_count": 33,
   "metadata": {},
   "outputs": [],
   "source": [
    "fpr_conif = dict()\n",
    "tpr_conif = dict()\n",
    "roc_auc_conif = dict()\n",
    "\n",
    "fpr_conif[0], tpr_conif[0], _ = sklearn.metrics.roc_curve(y_test, y_conif)\n",
    "roc_auc_conif[i] = sklearn.metrics.auc(fpr_conif[i], tpr_conif[i])"
   ]
  },
  {
   "cell_type": "markdown",
   "metadata": {},
   "source": [
    "### Plot ROC curves comparing sklearn model to conifer model"
   ]
  },
  {
   "cell_type": "code",
   "execution_count": 56,
   "metadata": {},
   "outputs": [
    {
     "data": {
      "image/png": "[encoded data removed]",
      "text/plain": [
       "<Figure size 576x576 with 1 Axes>"
      ]
     },
     "metadata": {
      "needs_background": "light"
     },
     "output_type": "display_data"
    }
   ],
   "source": [
    "# Plot all ROC curves\n",
    "plt.figure(figsize=[8,8])\n",
    "\n",
    "lw=2\n",
    "classes=['Gradient']\n",
    "n_classes=len(list(classes))\n",
    "\n",
    "from itertools import cycle\n",
    "colors = cycle(['aqua', 'darkorange', 'cornflowerblue', 'red', 'green'])\n",
    "for i, color in zip(range(n_classes), colors):\n",
    "    plt.plot(tpr[i], fpr[i], color=color, lw=lw,\n",
    "             label= list(classes)[i] + ' tagger (area = {1:0.2f})'\n",
    "             ''.format(i, roc_auc[i]))\n",
    "    plt.plot(tpr_conif[i], fpr_conif[i], '--', color=color, lw=lw,\n",
    "             label= list(classes)[i] + ' tagger conifer (area = {1:0.2f})'\n",
    "             ''.format(i, roc_auc_conif[i]))    \n",
    "    plt.plot(tpr_ada[i], fpr_ada[i], '--', color='red', lw=lw,\n",
    "             label= 'Adaboost tagger conifer (area = {1:0.2f})'\n",
    "             ''.format(i, roc_auc_ada[i]))  \n",
    "\n",
    "plt.semilogy()\n",
    "plt.xlim([0.0, 1.0])\n",
    "plt.ylim([10e-4, 1.05])\n",
    "plt.xlabel('Signal Efficiency')\n",
    "plt.ylabel('Background Efficiency')\n",
    "plt.title('ROC Curves for BDT Jet Classifier')\n",
    "plt.legend(loc=\"upper left\")\n",
    "plt.show()"
   ]
  },
  {
   "cell_type": "code",
   "execution_count": null,
   "metadata": {},
   "outputs": [],
   "source": []
  }
 ],
 "metadata": {
  "kernelspec": {
   "display_name": "Python 3",
   "language": "python",
   "name": "python3"
  },
  "language_info": {
   "codemirror_mode": {
    "name": "ipython",
    "version": 3
   },
   "file_extension": ".py",
   "mimetype": "text/x-python",
   "name": "python",
   "nbconvert_exporter": "python",
   "pygments_lexer": "ipython3",
   "version": "3.6.9"
  }
 },
 "nbformat": 4,
 "nbformat_minor": 4
}
